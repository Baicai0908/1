{
 "cells": [
  {
   "cell_type": "code",
   "execution_count": 57,
   "metadata": {},
   "outputs": [
    {
     "data": {
      "text/plain": [
       "Country\n",
       "CHINA         2041784.0\n",
       "TURKEY         867454.0\n",
       "IRAN           758638.0\n",
       "SYRIA          437700.0\n",
       "ITALY          359064.0\n",
       "JAPAN          355137.0\n",
       "HAITI          323770.0\n",
       "AZERBAIJAN     310119.0\n",
       "INDONESIA      280351.0\n",
       "ARMENIA        189000.0\n",
       "Name: Total Deaths, dtype: float64"
      ]
     },
     "execution_count": 57,
     "metadata": {},
     "output_type": "execute_result"
    }
   ],
   "source": [
    "import pandas as pd \n",
    "import numpy as np\n",
    "from matplotlib import pyplot as plt\n",
    "\n",
    "Sig_eqs = pd.read_csv(\"earthquakes-2021-10-26_17-53-34_+0800.tsv\",sep = '\\t')\n",
    "Sig_eqs.groupby('Country')['Total Deaths'].sum().sort_values(ascending = False).head(10)"
   ]
  },
  {
   "cell_type": "code",
   "execution_count": 58,
   "metadata": {},
   "outputs": [
    {
     "data": {
      "text/plain": [
       "<matplotlib.axes._subplots.AxesSubplot at 0x148bd4d7d68>"
      ]
     },
     "execution_count": 58,
     "metadata": {},
     "output_type": "execute_result"
    },
    {
     "data": {
      "image/png": "[encoded data removed]",
      "text/plain": [
       "<Figure size 432x288 with 1 Axes>"
      ]
     },
     "metadata": {
      "needs_background": "light"
     },
     "output_type": "display_data"
    }
   ],
   "source": [
    "Sig_eqs1 = Sig_eqs[Sig_eqs['Mag'] > 6.0]\n",
    "Sig_eqs_count = Sig_eqs1.groupby('Year')['Mag'].count()\n",
    "Sig_eqs_count.plot()"
   ]
  },
  {
   "cell_type": "code",
   "execution_count": 90,
   "metadata": {
    "scrolled": true
   },
   "outputs": [
    {
     "name": "stdout",
     "output_type": "stream",
     "text": [
      "610  1668/7/25\n"
     ]
    }
   ],
   "source": [
    "def CountEq_LargestEq(country):\n",
    "    counteq = Sig_eqs[(Sig_eqs['Country'] == country)]\n",
    "    maxmag = counteq[counteq['Mag'].isin([counteq['Mag'].max()])]\n",
    "    countdate = maxmag['Year'].astype('int').astype('str')+'/'+maxmag['Mo'].astype('int').astype('str')+'/'+maxmag['Dy'].astype('int').astype('str')\n",
    "    print(counteq['Country'].count(),'',countdate.values[0])\n",
    "\n",
    "CountEq_LargestEq('CHINA')\n"
   ]
  },
  {
   "cell_type": "code",
   "execution_count": null,
   "metadata": {},
   "outputs": [],
   "source": []
  },
  {
   "cell_type": "code",
   "execution_count": null,
   "metadata": {},
   "outputs": [],
   "source": []
  }
 ],
 "metadata": {
  "kernelspec": {
   "display_name": "Python 3",
   "language": "python",
   "name": "python3"
  },
  "language_info": {
   "codemirror_mode": {
    "name": "ipython",
    "version": 3
   },
   "file_extension": ".py",
   "mimetype": "text/x-python",
   "name": "python",
   "nbconvert_exporter": "python",
   "pygments_lexer": "ipython3",
   "version": "3.7.0"
  }
 },
 "nbformat": 4,
 "nbformat_minor": 2
}
